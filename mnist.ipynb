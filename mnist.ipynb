{
  "nbformat": 4,
  "nbformat_minor": 0,
  "metadata": {
    "colab": {
      "name": "mnist.ipynb",
      "provenance": [],
      "collapsed_sections": [],
      "mount_file_id": "1Zf9RNKXtjRw17qU0zWDjUD6Br99VkQ8c",
      "authorship_tag": "ABX9TyNKybcZWT5A8pxuWFNUO6Ri"
    },
    "kernelspec": {
      "name": "python3",
      "display_name": "Python 3"
    }
  },
  "cells": [
    {
      "cell_type": "markdown",
      "metadata": {
        "id": "5ijSyA8f3L6S"
      },
      "source": [
        "**Import Libraries**"
      ]
    },
    {
      "cell_type": "code",
      "metadata": {
        "id": "yNQRnB6eY9YH"
      },
      "source": [
        "import tensorflow as tf\r\n",
        "import numpy as np\r\n",
        "import pandas as pd\r\n",
        "import matplotlib.pyplot as plt\r\n",
        "import os\r\n",
        "from tensorflow.keras.layers import Dense,MaxPooling2D,Conv2D,Flatten,Softmax\r\n",
        "from tensorflow.keras.models import Sequential\r\n"
      ],
      "execution_count": null,
      "outputs": []
    },
    {
      "cell_type": "markdown",
      "metadata": {
        "id": "5zQuTrqN3Vtx"
      },
      "source": [
        "**Loading Data and rescaling it**"
      ]
    },
    {
      "cell_type": "code",
      "metadata": {
        "id": "ntq6ViXmZKwV"
      },
      "source": [
        "dataset=tf.keras.datasets.mnist\r\n",
        "(x_train,y_train),(x_test,y_test)=dataset.load_data()\r\n",
        "x_train=x_train/255.0\r\n",
        "x_test=x_test/255.0\r\n"
      ],
      "execution_count": null,
      "outputs": []
    },
    {
      "cell_type": "code",
      "metadata": {
        "id": "Csd-V9XvRsP4"
      },
      "source": [
        "print(f\"DImension of MNIST Dataset={x_train.ndim}\")\r\n",
        "print(f\"Shape of MNIST Dataset={x_train.shape}\")"
      ],
      "execution_count": null,
      "outputs": []
    },
    {
      "cell_type": "markdown",
      "metadata": {
        "id": "joOJRXwi3khe"
      },
      "source": [
        "**Adding new Axis to dataset**"
      ]
    },
    {
      "cell_type": "code",
      "metadata": {
        "id": "Lt7w3dxMalvI"
      },
      "source": [
        "x_train=x_train[...,np.newaxis]\r\n",
        "x_test=x_test[...,np.newaxis]"
      ],
      "execution_count": null,
      "outputs": []
    },
    {
      "cell_type": "markdown",
      "metadata": {
        "id": "M0Sg4slu3qrj"
      },
      "source": [
        "**Building Model**"
      ]
    },
    {
      "cell_type": "code",
      "metadata": {
        "id": "wnxkhEVdRsSt"
      },
      "source": [
        "model=Sequential([\r\n",
        "                  Conv2D(filters=8,kernel_size=(3,3),activation='relu',input_shape=x_train[0].shape),\r\n",
        "                  MaxPooling2D(pool_size=(2,2)),\r\n",
        "                  Flatten(),\r\n",
        "                  Dense(64,activation='relu'),\r\n",
        "                  Dense(64,activation='relu'),\r\n",
        "                  Dense(10,activation='softmax'),\r\n",
        "             \r\n",
        "  ])"
      ],
      "execution_count": null,
      "outputs": []
    },
    {
      "cell_type": "code",
      "metadata": {
        "id": "wYMCoE87Rsdy"
      },
      "source": [
        "model.compile(optimizer='adam',loss='sparse_categorical_crossentropy',metrics=['accuracy'])"
      ],
      "execution_count": null,
      "outputs": []
    },
    {
      "cell_type": "markdown",
      "metadata": {
        "id": "6tkkCtWE3w7y"
      },
      "source": [
        "**Training Model**"
      ]
    },
    {
      "cell_type": "code",
      "metadata": {
        "id": "UDtWqYCSRsfl"
      },
      "source": [
        "history=model.fit(x_train,y_train,batch_size=32,epochs=10)"
      ],
      "execution_count": null,
      "outputs": []
    },
    {
      "cell_type": "code",
      "metadata": {
        "id": "IgpoTThxRsjy"
      },
      "source": [
        "result=pd.DataFrame(history.history)\r\n",
        "result"
      ],
      "execution_count": null,
      "outputs": []
    },
    {
      "cell_type": "markdown",
      "metadata": {
        "id": "aEEDlTwb4CpZ"
      },
      "source": [
        "**Plotting Graph **"
      ]
    },
    {
      "cell_type": "code",
      "metadata": {
        "id": "5feE7QTORsp8"
      },
      "source": [
        "plt.plot(a['loss'])\r\n",
        "plt.xlabel('epoch')\r\n",
        "plt.ylabel('loss')\r\n",
        "plt.title('epoch vs loss')"
      ],
      "execution_count": null,
      "outputs": []
    },
    {
      "cell_type": "code",
      "metadata": {
        "id": "FAUey0_QfSkY"
      },
      "source": [
        "plt.plot(a['accuracy'])\r\n",
        "plt.xlabel('epoch')\r\n",
        "plt.ylabel('accuracy')\r\n",
        "plt.title('epoch vs accuracy')"
      ],
      "execution_count": null,
      "outputs": []
    },
    {
      "cell_type": "code",
      "metadata": {
        "id": "3ntHIdNpfSvQ"
      },
      "source": [
        "model.evaluate(x_test,y_test,batch_size=32,verbose=2)"
      ],
      "execution_count": null,
      "outputs": []
    },
    {
      "cell_type": "code",
      "metadata": {
        "id": "y33prcoWfSw3"
      },
      "source": [
        "b=x_test.shape[0]\r\n",
        "x=np.random.choice(b,4)\r\n",
        "x"
      ],
      "execution_count": null,
      "outputs": []
    },
    {
      "cell_type": "code",
      "metadata": {
        "id": "cODgVzuRjRXd"
      },
      "source": [
        "y=x_test[x,...]\r\n",
        "d=y_test[x,...]\r\n",
        "prediction=model.predict(y)\r\n",
        "prediction"
      ],
      "execution_count": null,
      "outputs": []
    },
    {
      "cell_type": "code",
      "metadata": {
        "id": "CxA6ZY98jRiE"
      },
      "source": [
        "plt.imshow(y[0].reshape(28,28),cmap='Greys')"
      ],
      "execution_count": null,
      "outputs": []
    },
    {
      "cell_type": "code",
      "metadata": {
        "id": "XLXgLc2MjRkE"
      },
      "source": [
        "print(d[0])\r\n",
        "print(np.argmax(prediction[0]))"
      ],
      "execution_count": null,
      "outputs": []
    },
    {
      "cell_type": "markdown",
      "metadata": {
        "id": "NHTXbm-U4bw9"
      },
      "source": [
        "Taking Images from google drive in colab and try to get result"
      ]
    },
    {
      "cell_type": "code",
      "metadata": {
        "id": "StYYFowippAv"
      },
      "source": [
        "from google.colab import drive\r\n",
        "drive.mount('/content/gdrive')"
      ],
      "execution_count": null,
      "outputs": []
    },
    {
      "cell_type": "code",
      "metadata": {
        "id": "E3n801U_fS0s"
      },
      "source": [
        "import cv2\r\n",
        "from google.colab.patches import cv2_imshow\r\n",
        "img = cv2.imread(\"filename.png\", cv2.IMREAD_GRAYSCALE)\r\n",
        "img = cv2.resize(img, (28,28))\r\n",
        "cv2_imshow(img)\r\n",
        "cv2.waitKey(0)\r\n",
        "cv2.destroyAllWindows()"
      ],
      "execution_count": null,
      "outputs": []
    },
    {
      "cell_type": "code",
      "metadata": {
        "id": "qxpjKpCyfS3a"
      },
      "source": [
        "img=img/255\r\n",
        "plt.imshow(img,cmap='Greys')\r\n",
        "ty=model.predict(img[:,:][np.newaxis,...,np.newaxis])\r\n",
        "np.argmax(ty)"
      ],
      "execution_count": null,
      "outputs": []
    }
  ]
}